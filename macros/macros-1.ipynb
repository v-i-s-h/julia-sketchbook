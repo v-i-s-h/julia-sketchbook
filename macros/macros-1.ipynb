{
 "cells": [
  {
   "cell_type": "markdown",
   "metadata": {},
   "source": [
    "Tutorial on Macros!\n",
    "Source: https://github.com/johnmyleswhite/julia_tutorials/blob/master/From%20Macros%20to%20DSLs%20in%20Julia%20-%20Part%201%20-%20Macros.ipynb"
   ]
  },
  {
   "cell_type": "code",
   "execution_count": 1,
   "metadata": {},
   "outputs": [
    {
     "data": {
      "text/plain": [
       "1"
      ]
     },
     "execution_count": 1,
     "metadata": {},
     "output_type": "execute_result"
    }
   ],
   "source": [
    ":(1)"
   ]
  },
  {
   "cell_type": "code",
   "execution_count": 2,
   "metadata": {},
   "outputs": [
    {
     "data": {
      "text/plain": [
       ":(:x)"
      ]
     },
     "execution_count": 2,
     "metadata": {},
     "output_type": "execute_result"
    }
   ],
   "source": [
    ":(:x)"
   ]
  },
  {
   "cell_type": "code",
   "execution_count": 3,
   "metadata": {},
   "outputs": [
    {
     "data": {
      "text/plain": [
       ":(1 + x)"
      ]
     },
     "execution_count": 3,
     "metadata": {},
     "output_type": "execute_result"
    }
   ],
   "source": [
    ":(1 + x)"
   ]
  },
  {
   "cell_type": "code",
   "execution_count": 4,
   "metadata": {},
   "outputs": [
    {
     "data": {
      "text/plain": [
       "quote\n",
       "    #= In[4]:2 =#\n",
       "    x + 1\n",
       "    #= In[4]:3 =#\n",
       "    1 + x\n",
       "end"
      ]
     },
     "execution_count": 4,
     "metadata": {},
     "output_type": "execute_result"
    }
   ],
   "source": [
    "quote\n",
    "    x + 1\n",
    "    1 + x\n",
    "end"
   ]
  },
  {
   "cell_type": "code",
   "execution_count": 5,
   "metadata": {},
   "outputs": [
    {
     "data": {
      "text/plain": [
       "Int64"
      ]
     },
     "execution_count": 5,
     "metadata": {},
     "output_type": "execute_result"
    }
   ],
   "source": [
    "typeof(:1)"
   ]
  },
  {
   "cell_type": "code",
   "execution_count": 6,
   "metadata": {},
   "outputs": [
    {
     "data": {
      "text/plain": [
       "QuoteNode"
      ]
     },
     "execution_count": 6,
     "metadata": {},
     "output_type": "execute_result"
    }
   ],
   "source": [
    "typeof(:(:x))"
   ]
  },
  {
   "cell_type": "code",
   "execution_count": 7,
   "metadata": {},
   "outputs": [
    {
     "data": {
      "text/plain": [
       "Expr"
      ]
     },
     "execution_count": 7,
     "metadata": {},
     "output_type": "execute_result"
    }
   ],
   "source": [
    "typeof(:(1 + x))"
   ]
  },
  {
   "cell_type": "code",
   "execution_count": 8,
   "metadata": {},
   "outputs": [
    {
     "data": {
      "text/plain": [
       "Expr"
      ]
     },
     "execution_count": 8,
     "metadata": {},
     "output_type": "execute_result"
    }
   ],
   "source": [
    "typeof(\n",
    "quote\n",
    "    1 + x\n",
    "    x + 1\n",
    "end\n",
    ")"
   ]
  },
  {
   "cell_type": "code",
   "execution_count": 9,
   "metadata": {},
   "outputs": [
    {
     "name": "stdout",
     "output_type": "stream",
     "text": [
      "Expr\n",
      "  head: Symbol call\n",
      "  args: Array{Any}((3,))\n",
      "    1: Symbol +\n",
      "    2: Int64 1\n",
      "    3: Symbol x\n"
     ]
    }
   ],
   "source": [
    "dump(:(1 + x))"
   ]
  },
  {
   "cell_type": "code",
   "execution_count": 10,
   "metadata": {},
   "outputs": [
    {
     "name": "stdout",
     "output_type": "stream",
     "text": [
      "Expr\n",
      "  head: Symbol call\n",
      "  args: Array{Any}((2,))\n",
      "    1: Symbol sin\n",
      "    2: Symbol x\n"
     ]
    }
   ],
   "source": [
    "dump(:(sin(x)))"
   ]
  },
  {
   "cell_type": "code",
   "execution_count": 11,
   "metadata": {},
   "outputs": [
    {
     "name": "stdout",
     "output_type": "stream",
     "text": [
      "Expr\n",
      "  head: Symbol call\n",
      "  args: Array{Any}((3,))\n",
      "    1: Symbol ==\n",
      "    2: Symbol x\n",
      "    3: Symbol y\n"
     ]
    }
   ],
   "source": [
    "dump(:(x==y))"
   ]
  },
  {
   "cell_type": "code",
   "execution_count": 12,
   "metadata": {},
   "outputs": [
    {
     "name": "stdout",
     "output_type": "stream",
     "text": [
      "Expr\n",
      "  head: Symbol block\n",
      "  args: Array{Any}((2,))\n",
      "    1: LineNumberNode\n",
      "      line: Int64 3\n",
      "      file: Symbol In[12]\n",
      "    2: Expr\n",
      "      head: Symbol let\n",
      "      args: Array{Any}((2,))\n",
      "        1: Expr\n",
      "          head: Symbol =\n",
      "          args: Array{Any}((2,))\n",
      "            1: Symbol x\n",
      "            2: Int64 1\n",
      "        2: Expr\n",
      "          head: Symbol block\n",
      "          args: Array{Any}((2,))\n",
      "            1: LineNumberNode\n",
      "              line: Int64 4\n",
      "              file: Symbol In[12]\n",
      "            2: Expr\n",
      "              head: Symbol call\n",
      "              args: Array{Any}((3,))\n",
      "                1: Symbol +\n",
      "                2: Symbol x\n",
      "                3: Int64 1\n"
     ]
    }
   ],
   "source": [
    "dump(\n",
    "    quote\n",
    "        let x = 1\n",
    "            x + 1\n",
    "        end\n",
    "    end\n",
    ")"
   ]
  },
  {
   "cell_type": "code",
   "execution_count": 13,
   "metadata": {},
   "outputs": [],
   "source": [
    "import MacroTools: rmlines"
   ]
  },
  {
   "cell_type": "code",
   "execution_count": 14,
   "metadata": {},
   "outputs": [
    {
     "name": "stdout",
     "output_type": "stream",
     "text": [
      "Expr\n",
      "  head: Symbol block\n",
      "  args: Array{Any}((1,))\n",
      "    1: Expr\n",
      "      head: Symbol let\n",
      "      args: Array{Any}((2,))\n",
      "        1: Expr\n",
      "          head: Symbol =\n",
      "          args: Array{Any}((2,))\n",
      "            1: Symbol x\n",
      "            2: Int64 1\n",
      "        2: Expr\n",
      "          head: Symbol block\n",
      "          args: Array{Any}((2,))\n",
      "            1: LineNumberNode\n",
      "              line: Int64 5\n",
      "              file: Symbol In[14]\n",
      "            2: Expr\n",
      "              head: Symbol call\n",
      "              args: Array{Any}((3,))\n",
      "                1: Symbol +\n",
      "                2: Symbol x\n",
      "                3: Int64 1\n"
     ]
    }
   ],
   "source": [
    "dump(\n",
    "    rmlines(\n",
    "        quote\n",
    "            let x = 1\n",
    "                x + 1\n",
    "            end\n",
    "        end\n",
    "    )\n",
    ")"
   ]
  },
  {
   "cell_type": "code",
   "execution_count": 15,
   "metadata": {},
   "outputs": [
    {
     "data": {
      "text/plain": [
       "true"
      ]
     },
     "execution_count": 15,
     "metadata": {},
     "output_type": "execute_result"
    }
   ],
   "source": [
    ":(x - y) == Expr(:call, :-, :x, :y)"
   ]
  },
  {
   "cell_type": "code",
   "execution_count": 16,
   "metadata": {},
   "outputs": [
    {
     "data": {
      "text/plain": [
       "true"
      ]
     },
     "execution_count": 16,
     "metadata": {},
     "output_type": "execute_result"
    }
   ],
   "source": [
    ":(sin(x)) == Expr(:call, :sin, :x)"
   ]
  },
  {
   "cell_type": "code",
   "execution_count": 18,
   "metadata": {},
   "outputs": [
    {
     "data": {
      "text/plain": [
       "true"
      ]
     },
     "execution_count": 18,
     "metadata": {},
     "output_type": "execute_result"
    }
   ],
   "source": [
    ":(1 + sin(x)) == Expr(:call, :+, :1, Expr(:call, :sin, :x))"
   ]
  },
  {
   "cell_type": "markdown",
   "metadata": {},
   "source": [
    "Excercise 1"
   ]
  },
  {
   "cell_type": "code",
   "execution_count": 21,
   "metadata": {},
   "outputs": [
    {
     "name": "stdout",
     "output_type": "stream",
     "text": [
      "Expr\n",
      "  head: Symbol block\n",
      "  args: Array{Any}((2,))\n",
      "    1: LineNumberNode\n",
      "      line: Int64 3\n",
      "      file: Symbol In[21]\n",
      "    2: Expr\n",
      "      head: Symbol let\n",
      "      args: Array{Any}((2,))\n",
      "        1: Expr\n",
      "          head: Symbol =\n",
      "          args: Array{Any}((2,))\n",
      "            1: Symbol x\n",
      "            2: Int64 0\n",
      "        2: Expr\n",
      "          head: Symbol block\n",
      "          args: Array{Any}((2,))\n",
      "            1: LineNumberNode\n",
      "              line: Int64 4\n",
      "              file: Symbol In[21]\n",
      "            2: Expr\n",
      "              head: Symbol for\n",
      "              args: Array{Any}((2,))\n",
      "                1: Expr\n",
      "                2: Expr\n"
     ]
    }
   ],
   "source": [
    "dump(\n",
    "    quote\n",
    "        let x = 0\n",
    "            for i ∈ 1:5\n",
    "                x += 1\n",
    "            end\n",
    "        end\n",
    "    end\n",
    ")"
   ]
  },
  {
   "cell_type": "code",
   "execution_count": 23,
   "metadata": {},
   "outputs": [
    {
     "name": "stdout",
     "output_type": "stream",
     "text": [
      "Expr\n",
      "  head: Symbol block\n",
      "  args: Array{Any}((2,))\n",
      "    1: LineNumberNode\n",
      "      line: Int64 3\n",
      "      file: Symbol In[23]\n",
      "    2: Expr\n",
      "      head: Symbol if\n",
      "      args: Array{Any}((3,))\n",
      "        1: Expr\n",
      "          head: Symbol call\n",
      "          args: Array{Any}((3,))\n",
      "            1: Symbol ==\n",
      "            2: Symbol x\n",
      "            3: Int64 1\n",
      "        2: Expr\n",
      "          head: Symbol block\n",
      "          args: Array{Any}((2,))\n",
      "            1: LineNumberNode\n",
      "              line: Int64 4\n",
      "              file: Symbol In[23]\n",
      "            2: Symbol x\n",
      "        3: Expr\n",
      "          head: Symbol block\n",
      "          args: Array{Any}((2,))\n",
      "            1: LineNumberNode\n",
      "              line: Int64 6\n",
      "              file: Symbol In[23]\n",
      "            2: Expr\n",
      "              head: Symbol call\n",
      "              args: Array{Any}((3,))\n",
      "                1: Symbol +\n",
      "                2: Symbol x\n",
      "                3: Int64 1\n"
     ]
    }
   ],
   "source": [
    "dump(\n",
    "    quote\n",
    "        if(x == 1)\n",
    "            x\n",
    "        else\n",
    "            x + 1\n",
    "        end\n",
    "    end\n",
    ")"
   ]
  },
  {
   "cell_type": "code",
   "execution_count": 24,
   "metadata": {},
   "outputs": [
    {
     "name": "stdout",
     "output_type": "stream",
     "text": [
      "Expr\n",
      "  head: Symbol block\n",
      "  args: Array{Any}((2,))\n",
      "    1: LineNumberNode\n",
      "      line: Int64 3\n",
      "      file: Symbol In[24]\n",
      "    2: Expr\n",
      "      head: Symbol ->\n",
      "      args: Array{Any}((2,))\n",
      "        1: Symbol x\n",
      "        2: Expr\n",
      "          head: Symbol block\n",
      "          args: Array{Any}((2,))\n",
      "            1: LineNumberNode\n",
      "              line: Int64 3\n",
      "              file: Symbol In[24]\n",
      "            2: Expr\n",
      "              head: Symbol call\n",
      "              args: Array{Any}((3,))\n",
      "                1: Symbol +\n",
      "                2: Symbol x\n",
      "                3: Int64 1\n"
     ]
    }
   ],
   "source": [
    "dump(\n",
    "    quote\n",
    "        x -> x + 1\n",
    "    end\n",
    ")"
   ]
  },
  {
   "cell_type": "code",
   "execution_count": 25,
   "metadata": {},
   "outputs": [
    {
     "data": {
      "text/plain": [
       "2"
      ]
     },
     "execution_count": 25,
     "metadata": {},
     "output_type": "execute_result"
    }
   ],
   "source": [
    "x = 2"
   ]
  },
  {
   "cell_type": "code",
   "execution_count": 26,
   "metadata": {},
   "outputs": [
    {
     "data": {
      "text/plain": [
       ":(1 + x)"
      ]
     },
     "execution_count": 26,
     "metadata": {},
     "output_type": "execute_result"
    }
   ],
   "source": [
    ":(1 + x)"
   ]
  },
  {
   "cell_type": "code",
   "execution_count": 27,
   "metadata": {},
   "outputs": [
    {
     "data": {
      "text/plain": [
       ":(1 + 2)"
      ]
     },
     "execution_count": 27,
     "metadata": {},
     "output_type": "execute_result"
    }
   ],
   "source": [
    ":(1 + $x)"
   ]
  },
  {
   "cell_type": "code",
   "execution_count": 28,
   "metadata": {},
   "outputs": [
    {
     "data": {
      "text/plain": [
       "(:(1 + y), :(1 + x))"
      ]
     },
     "execution_count": 28,
     "metadata": {},
     "output_type": "execute_result"
    }
   ],
   "source": [
    "let y = :x\n",
    "    :(1 + y), :(1 + $y)\n",
    "end"
   ]
  },
  {
   "cell_type": "code",
   "execution_count": 29,
   "metadata": {},
   "outputs": [
    {
     "data": {
      "text/plain": [
       "(:x, Symbol)"
      ]
     },
     "execution_count": 29,
     "metadata": {},
     "output_type": "execute_result"
    }
   ],
   "source": [
    ":x, typeof(:(x))"
   ]
  },
  {
   "cell_type": "code",
   "execution_count": 30,
   "metadata": {},
   "outputs": [
    {
     "data": {
      "text/plain": [
       "(:(:x), QuoteNode)"
      ]
     },
     "execution_count": 30,
     "metadata": {},
     "output_type": "execute_result"
    }
   ],
   "source": [
    ":(:x), typeof(:(:x))"
   ]
  },
  {
   "cell_type": "code",
   "execution_count": 36,
   "metadata": {},
   "outputs": [
    {
     "data": {
      "text/plain": [
       "@true_quote (macro with 1 method)"
      ]
     },
     "execution_count": 36,
     "metadata": {},
     "output_type": "execute_result"
    }
   ],
   "source": [
    "macro true_quote(e)\n",
    "    QuoteNode(e)\n",
    "end"
   ]
  },
  {
   "cell_type": "code",
   "execution_count": 37,
   "metadata": {},
   "outputs": [
    {
     "data": {
      "text/plain": [
       "(:(1 + $(Expr(:$, :y))), :(1 + x))"
      ]
     },
     "execution_count": 37,
     "metadata": {},
     "output_type": "execute_result"
    }
   ],
   "source": [
    "let y = :x\n",
    "    (\n",
    "        @true_quote(1 + $y),\n",
    "        :(1 + $y)\n",
    "    )\n",
    "end"
   ]
  },
  {
   "cell_type": "markdown",
   "metadata": {},
   "source": [
    "Functions over expressions"
   ]
  },
  {
   "cell_type": "code",
   "execution_count": 38,
   "metadata": {},
   "outputs": [
    {
     "data": {
      "text/plain": [
       "nargs (generic function with 1 method)"
      ]
     },
     "execution_count": 38,
     "metadata": {},
     "output_type": "execute_result"
    }
   ],
   "source": [
    "nargs(e::Expr) = length(e.args)"
   ]
  },
  {
   "cell_type": "code",
   "execution_count": 39,
   "metadata": {},
   "outputs": [
    {
     "data": {
      "text/plain": [
       "4"
      ]
     },
     "execution_count": 39,
     "metadata": {},
     "output_type": "execute_result"
    }
   ],
   "source": [
    "nargs(:(1 + 2 + 3))"
   ]
  },
  {
   "cell_type": "code",
   "execution_count": 40,
   "metadata": {},
   "outputs": [
    {
     "name": "stdout",
     "output_type": "stream",
     "text": [
      "Expr\n",
      "  head: Symbol call\n",
      "  args: Array{Any}((4,))\n",
      "    1: Symbol +\n",
      "    2: Int64 1\n",
      "    3: Int64 2\n",
      "    4: Int64 3\n"
     ]
    }
   ],
   "source": [
    "dump(\n",
    "    :(1 + 2 + 3)\n",
    ")"
   ]
  },
  {
   "cell_type": "code",
   "execution_count": 45,
   "metadata": {},
   "outputs": [
    {
     "data": {
      "text/plain": [
       "maxargs (generic function with 2 methods)"
      ]
     },
     "execution_count": 45,
     "metadata": {},
     "output_type": "execute_result"
    }
   ],
   "source": [
    "maxargs(x::Any) = 0\n",
    "maxargs(e::Expr) = max(nargs(e), maximum(map(maxargs, e.args)))"
   ]
  },
  {
   "cell_type": "code",
   "execution_count": 46,
   "metadata": {},
   "outputs": [
    {
     "data": {
      "text/plain": [
       "4"
      ]
     },
     "execution_count": 46,
     "metadata": {},
     "output_type": "execute_result"
    }
   ],
   "source": [
    "e = quote\n",
    "    z = 1 + log(x + y)\n",
    "    exp(z)\n",
    "end\n",
    "\n",
    "maxargs(e)"
   ]
  },
  {
   "cell_type": "code",
   "execution_count": null,
   "metadata": {},
   "outputs": [],
   "source": []
  }
 ],
 "metadata": {
  "kernelspec": {
   "display_name": "Julia 1.5.0",
   "language": "julia",
   "name": "julia-1.5"
  },
  "language_info": {
   "file_extension": ".jl",
   "mimetype": "application/julia",
   "name": "julia",
   "version": "1.5.0"
  }
 },
 "nbformat": 4,
 "nbformat_minor": 4
}
